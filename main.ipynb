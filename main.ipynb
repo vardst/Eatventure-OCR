{
 "cells": [
  {
   "cell_type": "code",
   "execution_count": 85,
   "metadata": {},
   "outputs": [],
   "source": [
    "import subprocess\n",
    "import os\n",
    "from PIL import Image, ImageOps\n",
    "import pytesseract\n",
    "full_img_path = r\"cropped/cropped_screenshot.png\"\n",
    "button_img_path = r\"cropped/cropped_button.png\"\n",
    "\n",
    "pytesseract.pytesseract.tesseract_cmd = r\"C:/Program Files/Tesseract-OCR/tesseract.exe\"\n",
    "\n",
    "def take_android_screenshot(save_path):\n",
    "    try:\n",
    "        subprocess.run([\"adb\", \"start-server\"], check=True)\n",
    "    except subprocess.CalledProcessError:\n",
    "        print(\"ADB is not installed or not added to the PATH.\")\n",
    "        return\n",
    "\n",
    "    device_path = \"/sdcard/screenshot.png\"\n",
    "    local_path = os.path.join(save_path, \"screenshot.png\")\n",
    "\n",
    "    try:\n",
    "        subprocess.run([\"adb\", \"shell\", f\"screencap -p {device_path}\"], check=True)\n",
    "        print(\"Screenshot taken successfully.\")\n",
    "    except subprocess.CalledProcessError:\n",
    "        print(\"Failed to take screenshot on device.\")\n",
    "        return\n",
    "\n",
    "    try:\n",
    "        subprocess.run([\"adb\", \"pull\", device_path, local_path], check=True)\n",
    "        print(f\"Screenshot saved to {local_path}\")\n",
    "    except subprocess.CalledProcessError:\n",
    "        print(\"Failed to pull the screenshot from device.\")\n",
    "        return\n",
    "    \n",
    "\n",
    "def crop_image_full(image_path, save_path):\n",
    "    try:\n",
    "        with Image.open(image_path) as img:\n",
    "            # Define the area to crop (left, top, right, bottom)\n",
    "            crop_area = (100, 900, 967, 1050)  # Adjust this as needed\n",
    "            cropped_img = img.crop(crop_area)\n",
    "            cropped_path = os.path.join(save_path, \"cropped_screenshot.png\")\n",
    "            cropped_img.save(cropped_path)\n",
    "            print(f\"Cropped image saved to {cropped_path}\")\n",
    "    except Exception as e:\n",
    "        print(f\"Failed to crop the image: {str(e)}\")\n",
    "\n",
    "def crop_image_full_button(image_path, save_path):\n",
    "    try:\n",
    "        with Image.open(image_path) as img:\n",
    "            # Define the area to crop (left, top, right, bottom)\n",
    "            crop_area = (747, 934, 932, 1020)  # Adjust this as needed\n",
    "            cropped_img = img.crop(crop_area)\n",
    "            cropped_path = os.path.join(save_path, \"cropped_button.png\")\n",
    "            cropped_img.save(cropped_path)\n",
    "            print(f\"Cropped image saved to {cropped_path}\")\n",
    "    except Exception as e:\n",
    "        print(f\"Failed to crop the image: {str(e)}\")\n",
    "\n",
    "def read_text_from_image(image_path):\n",
    "    try:\n",
    "        # Open an image file\n",
    "        with Image.open(image_path) as img:\n",
    "            config = '--oem 3 --psm 6 outputbase digits'\n",
    "            text = pytesseract.image_to_string(img, config=config)\n",
    "            return text.strip().split('\\n')\n",
    "    except Exception as e:\n",
    "        print(f\"Failed to process the image: {str(e)}\")\n",
    "        return None\n",
    "    \n",
    "\n",
    "directory = r\"F:/python/Eatventure OCR/images\"\n",
    "#take_android_screenshot(directory)\n",
    "#crop_image_full(\"images\\screenshot.png\",\"cropped\")\n",
    "#crop_image_full_button(\"images\\screenshot.png\",\"cropped\")\n",
    "#read_text_from_image(\"cropped\\cropped_screenshot.png\")\n",
    "# print(read_text_from_image(full_img_path)[0])\n",
    "# print(read_text_from_image(full_img_path)[1])\n",
    "print(read_text_from_image(r\"cropped/3.png\"))\n"
   ]
  },
  {
   "cell_type": "code",
   "execution_count": 90,
   "metadata": {},
   "outputs": [
    {
     "name": "stdout",
     "output_type": "stream",
     "text": [
      "['500']\n"
     ]
    }
   ],
   "source": []
  },
  {
   "cell_type": "code",
   "execution_count": null,
   "metadata": {},
   "outputs": [],
   "source": []
  }
 ],
 "metadata": {
  "kernelspec": {
   "display_name": ".venv",
   "language": "python",
   "name": "python3"
  },
  "language_info": {
   "codemirror_mode": {
    "name": "ipython",
    "version": 3
   },
   "file_extension": ".py",
   "mimetype": "text/x-python",
   "name": "python",
   "nbconvert_exporter": "python",
   "pygments_lexer": "ipython3",
   "version": "3.12.3"
  }
 },
 "nbformat": 4,
 "nbformat_minor": 2
}
